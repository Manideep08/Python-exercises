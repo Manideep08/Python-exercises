{
 "cells": [
  {
   "cell_type": "code",
   "execution_count": 1,
   "metadata": {},
   "outputs": [
    {
     "name": "stdout",
     "output_type": "stream",
     "text": [
      "enter the number 8\n",
      "8 * 1 = 8\n",
      "8 * 2 = 16\n",
      "8 * 3 = 24\n",
      "8 * 4 = 32\n",
      "8 * 5 = 40\n",
      "8 * 6 = 48\n",
      "8 * 7 = 56\n",
      "8 * 8 = 64\n",
      "8 * 9 = 72\n",
      "8 * 10 = 80\n"
     ]
    }
   ],
   "source": [
    "#1.Program that prints table of a number\n",
    "n = int(input(\"enter the number \"))\n",
    "for i in range(1,11):\n",
    "    print(n,\"*\",i,\"=\",n*i)"
   ]
  },
  {
   "cell_type": "code",
   "execution_count": 2,
   "metadata": {},
   "outputs": [
    {
     "name": "stdout",
     "output_type": "stream",
     "text": [
      "enter the number 100\n",
      "[(3, 5), (5, 7), (11, 13), (17, 19), (29, 31), (41, 43), (59, 61), (71, 73)]\n"
     ]
    }
   ],
   "source": [
    "#2.Program to print twin primes less than 1000\n",
    "n = int(input(\"enter the number \"))\n",
    "l = []\n",
    "for i in range(2, n):\n",
    "    f = 0\n",
    "    for j in range(2,i):\n",
    "        if i%j == 0:\n",
    "            f += 1\n",
    "    if f == 0:\n",
    "        l.append(i)\n",
    "#print(l)\n",
    "t = []\n",
    "for i in l:\n",
    "    for j in l:\n",
    "        if j-i == 2:\n",
    "            t.append((i, j))\n",
    "            #t.append(j)\n",
    "print(t)        "
   ]
  },
  {
   "cell_type": "code",
   "execution_count": 3,
   "metadata": {},
   "outputs": [
    {
     "name": "stdout",
     "output_type": "stream",
     "text": [
      "enter the number 58\n",
      "[2, 29]\n"
     ]
    }
   ],
   "source": [
    "#3.Program to find prime factors of a number\n",
    "n = int(input(\"enter the number \"))\n",
    "m = []\n",
    "l = []\n",
    "for i in range(2, n+1):\n",
    "    if n % i == 0:\n",
    "        m.append(i)\n",
    "#print(m)\n",
    "def isprime(m):\n",
    "    for i in m:\n",
    "        f = 0\n",
    "        for j in range(2,i):\n",
    "            if i%j == 0:\n",
    "                f += 1\n",
    "        if f == 0:\n",
    "            l.append(i)\n",
    "    return l\n",
    "a = isprime(m)\n",
    "print(a)"
   ]
  },
  {
   "cell_type": "code",
   "execution_count": 4,
   "metadata": {},
   "outputs": [
    {
     "name": "stdout",
     "output_type": "stream",
     "text": [
      "enter the values of n & r15 10\n",
      "Permutations of 15 objects taken 10 at a time is 10897286400.0\n",
      "Combinations of 15 objects taken 10 at a time is 3003.0\n"
     ]
    }
   ],
   "source": [
    "#4.Program on permutations and combinations\n",
    "fact = lambda x : 1 if x == 1 else x * fact(x-1)\n",
    "def task(m):\n",
    "    for i in range(1,m+1):\n",
    "        fact(i)\n",
    "    return(fact(i))\n",
    "n, r = map(int, input(\"enter the values of n & r\").split())\n",
    "if n < r:\n",
    "    print(\"n can't be less than r\")\n",
    "else:\n",
    "    print(\"Permutations of \"+str(n)+\" objects taken \"+str(r)+\" at a time is\", task(n)/task(n-r))\n",
    "    print(\"Combinations of \"+str(n)+\" objects taken \"+str(r)+\" at a time is\", task(n)/(task(n-r)*task(r)))"
   ]
  },
  {
   "cell_type": "code",
   "execution_count": 5,
   "metadata": {},
   "outputs": [
    {
     "name": "stdout",
     "output_type": "stream",
     "text": [
      "enter the floating number 10.625\n",
      "enter the number of decimal places of result 3\n",
      "1010.101\n"
     ]
    }
   ],
   "source": [
    "#5.Program to convert decimal number to binary number\n",
    "\"\"\"Used this link as reference for concept: http://cs.furman.edu/digitaldomain/more/ch6/dec_frac_to_bin.htm\"\"\"\n",
    "def float_bin(number, places = 3):\n",
    "    whole, dec = str(number).split(\".\")\n",
    "    whole = int(whole)\n",
    "    dec = int(dec)\n",
    "    res = bin(whole).lstrip(\"0b\")+\".\"\n",
    "    for x in range(places):\n",
    "        whole, dec = str((decimal_converter(dec))*2).split(\".\")\n",
    "        dec = int(dec)\n",
    "        res += whole\n",
    "    return res\n",
    "def decimal_converter(num):\n",
    "    while num>1:\n",
    "        num /= 10\n",
    "    return num\n",
    "n = input(\"enter the floating number \")\n",
    "p = int(input(\"enter the number of decimal places of result \"))\n",
    "print(float_bin(n, places  = p))"
   ]
  },
  {
   "cell_type": "code",
   "execution_count": 6,
   "metadata": {},
   "outputs": [
    {
     "name": "stdout",
     "output_type": "stream",
     "text": [
      "enter a number 158\n",
      "It is not armstrong number\n"
     ]
    }
   ],
   "source": [
    "#6.Program to find cube of given digits and isArmstrong(), PrintArmstrong()\n",
    "m = int(input(\"enter a number \"))\n",
    "n = list(map(int, str(m)))\n",
    "def cubesum(m):\n",
    "    return (sum([i**3 for i in m]))\n",
    "def isArmstrong(a):\n",
    "    if cubesum(a) == m:        \n",
    "        print(\"Yes it is armstrong number\")\n",
    "    else:\n",
    "        print(\"It is not armstrong number\")\n",
    "isArmstrong(n)\n",
    "def printArmstrong(b):\n",
    "    if cubesum(b) == m:\n",
    "        print(\"Armstrong number is\", m)\n",
    "    else:\n",
    "        pass\n",
    "printArmstrong(n)    "
   ]
  },
  {
   "cell_type": "code",
   "execution_count": 7,
   "metadata": {},
   "outputs": [
    {
     "name": "stdout",
     "output_type": "stream",
     "text": [
      "enter a number 128\n",
      "16\n"
     ]
    }
   ],
   "source": [
    "#7.Program that returns product of digits of a number\n",
    "n = input(\"enter a number \")\n",
    "def prodDigits(a):\n",
    "    l = list(a)\n",
    "    p=1\n",
    "    for i in l:\n",
    "        p=p*int(i)\n",
    "    return p\n",
    "print(prodDigits(n))    "
   ]
  },
  {
   "cell_type": "code",
   "execution_count": 8,
   "metadata": {},
   "outputs": [
    {
     "name": "stdout",
     "output_type": "stream",
     "text": [
      "enter a number 341\n",
      "MDR is  2\n",
      "MPersistence is  2\n"
     ]
    }
   ],
   "source": [
    "#8.Program on MDR() and MPersistence using proDigits()\n",
    "x = input(\"enter a number \")\n",
    "def MDR(q):\n",
    "    while int(q)>9:\n",
    "        s = prodDigits(str(q))\n",
    "        q=s\n",
    "    return s\n",
    "print(\"MDR is \",MDR(x))\n",
    "def MPersistence(q):\n",
    "    a=0\n",
    "    while int(q)>9:\n",
    "        s = prodDigits(str(q))\n",
    "        q=s\n",
    "        a+=1\n",
    "    return a\n",
    "print(\"MPersistence is \", MPersistence(x))"
   ]
  },
  {
   "cell_type": "code",
   "execution_count": 9,
   "metadata": {},
   "outputs": [
    {
     "name": "stdout",
     "output_type": "stream",
     "text": [
      "enter the number 143\n",
      "25\n"
     ]
    }
   ],
   "source": [
    "#9.Sum of proper divisors of a given number\n",
    "def sumPdivisors(n=int(input(\"enter the number \"))):\n",
    "    l = []\n",
    "    for i in range(1,n):\n",
    "        if n%i == 0:\n",
    "            l.append(i)\n",
    "    return sum(l)     \n",
    "print(sumPdivisors())\n"
   ]
  },
  {
   "cell_type": "code",
   "execution_count": 10,
   "metadata": {},
   "outputs": [
    {
     "name": "stdout",
     "output_type": "stream",
     "text": [
      "enter the range 300\n",
      "6\n",
      "28\n"
     ]
    }
   ],
   "source": [
    "#10.Program to print perfect number\n",
    "for i in range(2, int(input(\"enter the range \"))):\n",
    "    s = sumPdivisors(i)\n",
    "    if s == i:\n",
    "        print(i)"
   ]
  },
  {
   "cell_type": "code",
   "execution_count": 11,
   "metadata": {},
   "outputs": [
    {
     "name": "stdout",
     "output_type": "stream",
     "text": [
      "enter the range 300\n",
      "[[220, 284]]\n"
     ]
    }
   ],
   "source": [
    "#11.Program to print amicable numbers in a range\n",
    "d = dict()\n",
    "z, c = [], []\n",
    "for i in range(2, int(input(\"enter the range \"))):\n",
    "    s = sumPdivisors(i)\n",
    "    d[i]=s\n",
    "#print(d)\n",
    "for i, j in d.items():\n",
    "    for a, b in d.items():\n",
    "        if i == b and j == a:\n",
    "            if i!= a:\n",
    "                z.append(sorted([i,a]))\n",
    "for i in z:\n",
    "    if i not in c:\n",
    "        c.append(i)\n",
    "print(c)        "
   ]
  },
  {
   "cell_type": "code",
   "execution_count": 12,
   "metadata": {},
   "outputs": [
    {
     "name": "stdout",
     "output_type": "stream",
     "text": [
      "enter the range 100\n",
      "[1, 3, 5, 7, 9, 11, 13, 15, 17, 19, 21, 23, 25, 27, 29, 31, 33, 35, 37, 39, 41, 43, 45, 47, 49, 51, 53, 55, 57, 59, 61, 63, 65, 67, 69, 71, 73, 75, 77, 79, 81, 83, 85, 87, 89, 91, 93, 95, 97, 99]\n"
     ]
    }
   ],
   "source": [
    "#12.Program to find odd numbers in a list using filter function\n",
    "print(list(filter(lambda x : x%2==1, [i for i in range(int(input(\"enter the range \")))])))"
   ]
  },
  {
   "cell_type": "code",
   "execution_count": 13,
   "metadata": {},
   "outputs": [
    {
     "name": "stdout",
     "output_type": "stream",
     "text": [
      "[0, 1, 8, 27, 64, 125, 216, 343, 512, 729]\n"
     ]
    }
   ],
   "source": [
    "#13.Program to print cube elements of a given list\n",
    "print(list(map(lambda x : x**3, [i for i in range(10)])))"
   ]
  },
  {
   "cell_type": "code",
   "execution_count": 14,
   "metadata": {},
   "outputs": [
    {
     "name": "stdout",
     "output_type": "stream",
     "text": [
      "[0, 8, 64, 216, 512, 1000, 1728, 2744, 4096, 5832, 8000, 10648, 13824, 17576, 21952, 27000, 32768, 39304, 46656, 54872, 64000, 74088, 85184, 97336, 110592, 125000, 140608, 157464, 175616, 195112, 216000, 238328, 262144, 287496, 314432, 343000, 373248, 405224, 438976, 474552, 512000, 551368, 592704, 636056, 681472, 729000, 778688, 830584, 884736, 941192]\n"
     ]
    }
   ],
   "source": [
    "#14.Program using map() and filter()\n",
    "print(list(map(lambda x : x**3, list(filter(lambda x: x%2==0, [i for i in range(100)])))))"
   ]
  },
  {
   "cell_type": "code",
   "execution_count": 15,
   "metadata": {},
   "outputs": [
    {
     "name": "stdout",
     "output_type": "stream",
     "text": [
      "enter a number 25\n",
      "10\n"
     ]
    }
   ],
   "source": [
    "#7.Alternative program for 7\n",
    "from functools import reduce\n",
    "n = map(int, input(\"enter a number \"))\n",
    "def prodDigits(a):\n",
    "    return (reduce(lambda x, y: int(x)*int(y), a)) #Learnt from the lecture provided.\n",
    "p = prodDigits(n)\n",
    "print(p)"
   ]
  },
  {
   "cell_type": "code",
   "execution_count": null,
   "metadata": {},
   "outputs": [],
   "source": []
  }
 ],
 "metadata": {
  "kernelspec": {
   "display_name": "Python 3",
   "language": "python",
   "name": "python3"
  },
  "language_info": {
   "codemirror_mode": {
    "name": "ipython",
    "version": 3
   },
   "file_extension": ".py",
   "mimetype": "text/x-python",
   "name": "python",
   "nbconvert_exporter": "python",
   "pygments_lexer": "ipython3",
   "version": "3.7.3"
  }
 },
 "nbformat": 4,
 "nbformat_minor": 2
}
